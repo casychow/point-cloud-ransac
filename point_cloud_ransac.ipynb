{
 "cells": [
  {
   "cell_type": "markdown",
   "metadata": {},
   "source": [
    "Question 1\n",
    "\n",
    "Input: demo_pc.png (provided by Open3D reading o3d.data.pcdPointCloud().path)\n",
    "\n",
    "Output: write custom function to implement RANSAC algo to fit a plane in a 3D point cloud\n",
    "\n",
    "RANSAC\n",
    "1. Randomly select a sample of s data points from S and instantiate the model from this subset.\n",
    "2. Determine the set of data points Si which are within a distance threshold t of the model. The set Si is the consensus set of the sample and defines the inliers of S.\n",
    "3. If the size of Si (the number of inliers) is greater than some threshold T, re-estimate the model using all the points in Si and terminate.\n",
    "4. If the size of Si is less than T, select a new subset and repeat the above.\n",
    "5. After N trials the largest consensus set Si is selected, and the model is re-estimated using all the points in the subset Si."
   ]
  },
  {
   "cell_type": "code",
   "execution_count": 19,
   "metadata": {},
   "outputs": [
    {
     "name": "stdout",
     "output_type": "stream",
     "text": [
      "Rated: 72.21%\n",
      "Time: 233.2 seconds\n"
     ]
    },
    {
     "ename": "",
     "evalue": "",
     "output_type": "error",
     "traceback": [
      "\u001b[1;31mThe Kernel crashed while executing code in the the current cell or a previous cell. Please review the code in the cell(s) to identify a possible cause of the failure. Click <a href='https://aka.ms/vscodeJupyterKernelCrash'>here</a> for more info. View Jupyter <a href='command:jupyter.viewOutput'>log</a> for further details."
     ]
    }
   ],
   "source": [
    "import open3d as o3d\n",
    "import random\n",
    "import numpy as np\n",
    "import time\n",
    "\n",
    "start = time.time()\n",
    "\n",
    "# read demo point cloud provided by Open3D\n",
    "pcd_point_cloud = o3d.data.PCDPointCloud()\n",
    "pcd = o3d.io.read_point_cloud(pcd_point_cloud.path)\n",
    "\n",
    "# RANSAC params\n",
    "min_points = 3 # minimum number of points to create a plane\n",
    "in_threshold = 0.02 # threshold of point distance to plane to be considered inlier\n",
    "confidence = 0.90 # acceptable threshold of sampled points being inliers\n",
    "max_iteration = 500 # maximum number of iterations for RANSAC algo before outputting best model\n",
    "\n",
    "# Finding points using RANSAC\n",
    "points = np.asarray(pcd.points)\n",
    "total_points = len(points) # = 113662\n",
    "\n",
    "# Init permanent variables to compare temp variables with later\n",
    "best_in_points = []\n",
    "best_eq = []\n",
    "best_chosen_points = []\n",
    "\n",
    "# Init temp variables for easy access later (need to be reset to 0 after for loop)\n",
    "in_points = []\n",
    "chosen_points = []\n",
    "vec12 = []\n",
    "vec23 = []\n",
    "perpen_vec = []\n",
    "d = 0\n",
    "plane_eq = []\n",
    "dist = 0\n",
    "voted = 0\n",
    "\n",
    "for num in range(max_iteration):\n",
    "    # Grab min_points and put into chosen_points list\n",
    "    for int in range(min_points):\n",
    "        chosen_points.append(random.choice(points))\n",
    "    \n",
    "    # Create 2 vectors representing the minimum of 3 chosen points, regardless of min_points var value\n",
    "    # Format of vectors is np.array([x,y,z])\n",
    "    vec12 = np.array([chosen_points[1][0]-chosen_points[0][0], chosen_points[1][1]-chosen_points[0][1], chosen_points[1][2]-chosen_points[0][2]])\n",
    "    vec23 = np.array([chosen_points[2][0]-chosen_points[1][0], chosen_points[2][1]-chosen_points[1][1], chosen_points[2][2]-chosen_points[1][2]])\n",
    "\n",
    "    # Find perpendicular vector by finding cross product of vec12 and vec23, which can also be found using np.cross(vec12, vec23)\n",
    "    perpen_vec = np.array([(vec12[1]*vec23[2])-(vec12[2]*vec23[1]), -(vec12[0]*vec23[2])-(vec12[2]*vec23[0]), (vec12[0]*vec23[1])-(vec12[1]*vec23[0])])\n",
    "    perpen_vec = perpen_vec / np.linalg.norm(perpen_vec)\n",
    "\n",
    "    # Fill in plane formula with (a,b,c) as perpendicular vector's (x,y,z) and arbitrarily chosen_points[1] to get d\n",
    "    d = -np.sum(np.multiply(perpen_vec, chosen_points[1]))\n",
    "\n",
    "    # Format: a(x-x0)+b(y-y0)+c(z-z0)=d\n",
    "    plane_eq = [perpen_vec[0], perpen_vec[1], perpen_vec[2], d]\n",
    "\n",
    "    # Finding distance of all points to place to determine inliers and outliers\n",
    "    for point in points:\n",
    "        dist = abs(point[0]*plane_eq[0]+point[1]*plane_eq[1]+point[2]*plane_eq[2]+d)/np.sqrt(perpen_vec[0]**2+perpen_vec[1]**2+perpen_vec[2]**2)\n",
    "        if (dist <= in_threshold):\n",
    "            in_points.append(point)\n",
    "    \n",
    "    # If we have more inliers now, change our best inliers outcome\n",
    "    if len(best_in_points) < len(in_points):\n",
    "        best_in_points = in_points\n",
    "        best_eq = plane_eq\n",
    "        best_chosen_points = chosen_points\n",
    "\n",
    "    # If confidence was reached, break out of for loop\n",
    "    if (confidence <= len(in_points)/total_points):\n",
    "        break\n",
    "\n",
    "    # Otherwise, reset temp variables for next iteration\n",
    "    in_points = []\n",
    "    chosen_points = []\n",
    "    vec12 = []\n",
    "    vec23 = []\n",
    "    perpen_vec = []\n",
    "    d = 0\n",
    "    plane_eq = []\n",
    "    dist = 0\n",
    "    voted = 0\n",
    "\n",
    "# Initialize empty point cloud to put best_in_points in because there is a difference in class\n",
    "# final_pcd.points has type open3d.cpu.pybind.utility.Vector3dVector\n",
    "# in_points has type open3d.cpu.pybind.geometry.PointCloud\n",
    "final_pcd = o3d.geometry.PointCloud()\n",
    "final_pcd.points = o3d.utility.Vector3dVector(np.array(best_in_points, dtype=object))\n",
    "final_pcd.paint_uniform_color([1,0,0]) # Paint points red\n",
    "\n",
    "print(\"Rated: \" + str(round((len(best_in_points)/total_points*100), 2)) + \"%\")\n",
    "end = time.time()\n",
    "print(\"Time:\", round(end - start, 2), \"seconds\")\n",
    "\n",
    "# Visualize best fitted plane after RANSAC\n",
    "o3d.visualization.draw_geometries([pcd, final_pcd],\n",
    "zoom=1,\n",
    "front=[0.4257, -0.2125, -0.8795],\n",
    "lookat=[2.6172, 2.0475, 1.532],\n",
    "up=[-0.0694, -0.9768, 0.2024]\n",
    ")\n",
    "\n"
   ]
  }
 ],
 "metadata": {
  "kernelspec": {
   "display_name": "Python 3.9.13 ('myenv')",
   "language": "python",
   "name": "python3"
  },
  "language_info": {
   "codemirror_mode": {
    "name": "ipython",
    "version": 3
   },
   "file_extension": ".py",
   "mimetype": "text/x-python",
   "name": "python",
   "nbconvert_exporter": "python",
   "pygments_lexer": "ipython3",
   "version": "3.9.13"
  },
  "orig_nbformat": 4,
  "vscode": {
   "interpreter": {
    "hash": "80abf3a9fb5314e6019b88c3f2d8ecbd4207c1759cf81fd7623ca63a92b968a3"
   }
  }
 },
 "nbformat": 4,
 "nbformat_minor": 2
}
